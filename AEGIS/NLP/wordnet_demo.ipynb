{
 "cells": [
  {
   "cell_type": "markdown",
   "metadata": {},
   "source": [
    "### Lexical knowledge network:  WordNet (http://www.nltk.org/howto/wordnet.html )#####"
   ]
  },
  {
   "cell_type": "code",
   "execution_count": 171,
   "metadata": {
    "collapsed": true
   },
   "outputs": [],
   "source": [
    "from nltk.corpus import wordnet as wn"
   ]
  },
  {
   "cell_type": "code",
   "execution_count": 172,
   "metadata": {
    "collapsed": false
   },
   "outputs": [
    {
     "name": "stdout",
     "output_type": "stream",
     "text": [
      "Finding all senses from wordnet: \n",
      "Synset('entity.n.01')\n",
      "Synset('physical_entity.n.01')\n",
      "Synset('abstraction.n.06')\n",
      "Synset('thing.n.12')\n",
      "Synset('object.n.01')\n",
      "Synset('whole.n.02')\n",
      "Synset('congener.n.03')\n",
      "Synset('living_thing.n.01')\n",
      "Synset('organism.n.01')\n",
      "Synset('benthos.n.02')\n"
     ]
    }
   ],
   "source": [
    "print(\"Finding all senses from wordnet: \" )\n",
    "for sense in list(wn.all_synsets('n'))[:10]:\n",
    "    print(sense)"
   ]
  },
  {
   "cell_type": "code",
   "execution_count": 173,
   "metadata": {
    "collapsed": false
   },
   "outputs": [
    {
     "name": "stdout",
     "output_type": "stream",
     "text": [
      "Finding all possible senses for a given word: \n",
      "[Synset('bat.n.01'), Synset('bat.n.02'), Synset('squash_racket.n.01'), Synset('cricket_bat.n.01'), Synset('bat.n.05'), Synset('bat.v.01'), Synset('bat.v.02'), Synset('bat.v.03'), Synset('bat.v.04'), Synset('cream.v.02')]\n"
     ]
    }
   ],
   "source": [
    "print(\"Finding all possible senses for a given word: \" )\n",
    "synsets = wn.synsets('bat')\n",
    "print(synsets)"
   ]
  },
  {
   "cell_type": "code",
   "execution_count": 174,
   "metadata": {
    "collapsed": false
   },
   "outputs": [
    {
     "name": "stdout",
     "output_type": "stream",
     "text": [
      "Finding the semantic information about the senses: \n",
      "\n",
      "Sense:  bat.n.01\n",
      "Synonyms:  ['bat', 'chiropteran']\n",
      "Gloss Definition: nocturnal mouselike mammal with forelimbs modified to form membranous wings and anatomical adaptations for echolocation by which they navigate\n",
      "Example Sentemces: []\n",
      "\n",
      "Sense:  bat.n.02\n",
      "Synonyms:  ['bat', 'at-bat']\n",
      "Gloss Definition: (baseball) a turn trying to get a hit\n",
      "Example Sentemces: ['he was at bat when it happened', 'he got four hits in four at-bats']\n",
      "\n",
      "Sense:  squash_racket.n.01\n",
      "Synonyms:  ['squash_racket', 'squash_racquet', 'bat']\n",
      "Gloss Definition: a small racket with a long handle used for playing squash\n",
      "Example Sentemces: []\n",
      "\n",
      "Sense:  cricket_bat.n.01\n",
      "Synonyms:  ['cricket_bat', 'bat']\n",
      "Gloss Definition: the club used in playing cricket\n",
      "Example Sentemces: ['a cricket bat has a narrow handle and a broad flat end for hitting']\n",
      "\n",
      "Sense:  bat.n.05\n",
      "Synonyms:  ['bat']\n",
      "Gloss Definition: a club used for hitting a ball in various games\n",
      "Example Sentemces: []\n",
      "\n",
      "Sense:  bat.v.01\n",
      "Synonyms:  ['bat']\n",
      "Gloss Definition: strike with, or as if with a baseball bat\n",
      "Example Sentemces: ['bat the ball']\n",
      "\n",
      "Sense:  bat.v.02\n",
      "Synonyms:  ['bat', 'flutter']\n",
      "Gloss Definition: wink briefly\n",
      "Example Sentemces: [\"bat one's eyelids\"]\n",
      "\n",
      "Sense:  bat.v.03\n",
      "Synonyms:  ['bat']\n",
      "Gloss Definition: have a turn at bat\n",
      "Example Sentemces: ['Jones bats first, followed by Martinez']\n",
      "\n",
      "Sense:  bat.v.04\n",
      "Synonyms:  ['bat']\n",
      "Gloss Definition: use a bat\n",
      "Example Sentemces: [\"Who's batting?\"]\n",
      "\n",
      "Sense:  cream.v.02\n",
      "Synonyms:  ['cream', 'bat', 'clobber', 'drub', 'thrash', 'lick']\n",
      "Gloss Definition: beat thoroughly and conclusively in a competition or fight\n",
      "Example Sentemces: ['We licked the other team on Sunday!']\n"
     ]
    }
   ],
   "source": [
    "print(\"Finding the semantic information about the senses: \" )\n",
    "for sense in synsets:\n",
    "    print(\"\\nSense: \", sense.name())\n",
    "    print(\"Synonyms: \" , [lemma.name() for lemma in sense.lemmas()])\n",
    "    print(\"Gloss Definition: \" + sense.definition())\n",
    "    print(\"Example Sentemces: \" + str(sense.examples()))   "
   ]
  },
  {
   "cell_type": "code",
   "execution_count": 175,
   "metadata": {
    "collapsed": false
   },
   "outputs": [
    {
     "name": "stdout",
     "output_type": "stream",
     "text": [
      "Finding all possible senses of words for a given parts-of-speech:\n",
      "[Synset('bat.v.01'), Synset('bat.v.02'), Synset('bat.v.03'), Synset('bat.v.04'), Synset('cream.v.02')]\n"
     ]
    }
   ],
   "source": [
    "print(\"Finding all possible senses of words for a given parts-of-speech:\" )\n",
    "synsets = wn.synsets('bat','v')\n",
    "print(synsets)"
   ]
  },
  {
   "cell_type": "code",
   "execution_count": 178,
   "metadata": {
    "collapsed": false
   },
   "outputs": [
    {
     "name": "stdout",
     "output_type": "stream",
     "text": [
      "Finding the sense information for a given parts-of-speech and sense number\n",
      "Gloss definition:  wink briefly\n"
     ]
    }
   ],
   "source": [
    "print(\"Finding the sense information for a given parts-of-speech and sense number\")\n",
    "synset = wordnet.synset('bat.v.02')\n",
    "print(\"Gloss definition: \", synset.definition())"
   ]
  },
  {
   "cell_type": "code",
   "execution_count": 180,
   "metadata": {
    "collapsed": false
   },
   "outputs": [
    {
     "name": "stdout",
     "output_type": "stream",
     "text": [
      "Find the semantic relations\n",
      "Hypernym (parent) sense:  [Synset('placental.n.01')]\n",
      "Hyponym(child) sense:  [Synset('carnivorous_bat.n.01'), Synset('fruit_bat.n.01')]\n"
     ]
    }
   ],
   "source": [
    "print(\"Find the semantic relations\")\n",
    "print(\"Hypernym (parent) sense: \", wn.synset('bat.n.01').hypernyms())\n",
    "print(\"Hyponym(child) sense: \",wn.synset('bat.n.01').hyponyms())"
   ]
  },
  {
   "cell_type": "code",
   "execution_count": 184,
   "metadata": {
    "collapsed": false
   },
   "outputs": [
    {
     "name": "stdout",
     "output_type": "stream",
     "text": [
      "Find the common Hypernym or parent: \n",
      "[Synset('animal.n.01')]\n"
     ]
    }
   ],
   "source": [
    "print(\"Find the common Hypernym or parent: \")\n",
    "print(wordnet.synset('bat.n.01').lowest_common_hypernyms(wordnet.synset('cricket.n.01')))"
   ]
  },
  {
   "cell_type": "code",
   "execution_count": 185,
   "metadata": {
    "collapsed": false
   },
   "outputs": [
    {
     "name": "stdout",
     "output_type": "stream",
     "text": [
      "Find the lexical relations\n",
      "Sense:  Synset('day.n.04')\n",
      "Lemma:  ['day', 'daytime', 'daylight']\n",
      "Anotonyms:  ['night']\n"
     ]
    }
   ],
   "source": [
    "print(\"Find the lexical relations\")\n",
    "\n",
    "print(\"Sense: \", wn.synset('day.n.04'))\n",
    "print(\"Lemma: \", [l.name() for l in wn.synset('day.n.04').lemmas()])\n",
    "print (\"Anotonyms: \", [a.name()for a in wn.synset('day.n.04').lemmas()[0].antonyms()])"
   ]
  },
  {
   "cell_type": "code",
   "execution_count": 186,
   "metadata": {
    "collapsed": true
   },
   "outputs": [],
   "source": [
    "#Finding similarities between words\n",
    "cricket = wn.synset('cricket.n.01')\n",
    "bat = wn.synset('bat.n.02')"
   ]
  },
  {
   "cell_type": "code",
   "execution_count": 187,
   "metadata": {
    "collapsed": false
   },
   "outputs": [
    {
     "name": "stdout",
     "output_type": "stream",
     "text": [
      "0.05263157894736842\n"
     ]
    }
   ],
   "source": [
    "#Path similarity:Return a score denoting how similar two word senses are, based on the shortest path that connects the senses in the is-a (hypernym/hypnoym) taxonomy. The score is in the range 0 to 1\n",
    "print(cricket.path_similarity(bat))"
   ]
  },
  {
   "cell_type": "code",
   "execution_count": 188,
   "metadata": {
    "collapsed": false
   },
   "outputs": [
    {
     "name": "stdout",
     "output_type": "stream",
     "text": [
      "0.6931471805599453\n"
     ]
    }
   ],
   "source": [
    "#Leacock-Chodorow Similarity: Return a score denoting how similar two word senses are, based on the shortest path that connects the senses (as above) and the maximum depth of the taxonomy in which the senses occur\n",
    "print(cricket.lch_similarity(bat))"
   ]
  },
  {
   "cell_type": "code",
   "execution_count": 189,
   "metadata": {
    "collapsed": false
   },
   "outputs": [
    {
     "name": "stdout",
     "output_type": "stream",
     "text": [
      "0.1\n"
     ]
    }
   ],
   "source": [
    "# Wu-Palmer Similarity: Return a score denoting how similar two word senses are, based on the depth of the two senses in the taxonomy and that of their Least Common Subsumer (most specific ancestor node).\n",
    "print(cricket.wup_similarity(bat))"
   ]
  },
  {
   "cell_type": "code",
   "execution_count": 191,
   "metadata": {
    "collapsed": false
   },
   "outputs": [
    {
     "name": "stdout",
     "output_type": "stream",
     "text": [
      "0.04148880745296897\n"
     ]
    }
   ],
   "source": [
    "#jcn Similarity: \n",
    "from nltk.corpus import wordnet_ic\n",
    "brown_ic = wordnet_ic.ic('ic-brown.dat')\n",
    "print(bat.jcn_similarity(cricket, brown_ic))"
   ]
  }
 ],
 "metadata": {
  "anaconda-cloud": {},
  "kernelspec": {
   "display_name": "Python 3",
   "language": "python",
   "name": "python3"
  },
  "language_info": {
   "codemirror_mode": {
    "name": "ipython",
    "version": 3
   },
   "file_extension": ".py",
   "mimetype": "text/x-python",
   "name": "python",
   "nbconvert_exporter": "python",
   "pygments_lexer": "ipython3",
   "version": "3.6.0"
  }
 },
 "nbformat": 4,
 "nbformat_minor": 1
}
