{
 "cells": [
  {
   "cell_type": "markdown",
   "metadata": {},
   "source": [
    "# SentiWordNet"
   ]
  },
  {
   "cell_type": "code",
   "execution_count": 1,
   "metadata": {
    "collapsed": true
   },
   "outputs": [],
   "source": [
    "#import sentiwordnet and wordnet\n",
    "from nltk.corpus import sentiwordnet as swn\n",
    "from nltk.corpus import wordnet as wn"
   ]
  },
  {
   "cell_type": "code",
   "execution_count": 4,
   "metadata": {
    "collapsed": false
   },
   "outputs": [
    {
     "name": "stdout",
     "output_type": "stream",
     "text": [
      "\n",
      "Sense:  sad.a.01\n",
      "Synonyms:  ['sad']\n",
      "Gloss Definition: experiencing or showing sorrow or unhappiness\n",
      "Example Sentemces: ['feeling sad because his dog had died', 'Better by far that you should forget and smile / Than that you should remember and be sad\"- Christina Rossetti']\n",
      "\n",
      "Sense:  sad.s.02\n",
      "Synonyms:  ['sad']\n",
      "Gloss Definition: of things that make you feel sad\n",
      "Example Sentemces: ['sad news', \"she doesn't like sad movies\", 'it was a very sad story', 'When I am dead, my dearest, / Sing no sad songs for me\"- Christina Rossetti']\n",
      "\n",
      "Sense:  deplorable.s.01\n",
      "Synonyms:  ['deplorable', 'distressing', 'lamentable', 'pitiful', 'sad', 'sorry']\n",
      "Gloss Definition: bad; unfortunate\n",
      "Example Sentemces: ['my finances were in a deplorable state', 'a lamentable decision', 'her clothes were in sad shape', 'a sorry state of affairs']\n"
     ]
    }
   ],
   "source": [
    "#All synsets for the word\n",
    "for sense in wn.synsets('sad'):\n",
    "    print(\"\\nSense: \", sense.name())\n",
    "    print(\"Synonyms: \" , [lemma.name() for lemma in sense.lemmas()])\n",
    "    print(\"Gloss Definition: \" + sense.definition())\n",
    "    print(\"Example Sentemces: \" + str(sense.examples()))  "
   ]
  },
  {
   "cell_type": "code",
   "execution_count": 10,
   "metadata": {
    "collapsed": false
   },
   "outputs": [
    {
     "name": "stdout",
     "output_type": "stream",
     "text": [
      "Printing sentiment synsets for all the synsets of the word 'sad'\n",
      "\n",
      "dog.n.01\t0.0\t0.0\t1.0\n",
      "frump.n.01\t0.0\t0.5\t0.5\n",
      "dog.n.03\t0.0\t0.0\t1.0\n",
      "cad.n.01\t0.0\t1.0\t0.0\n",
      "frank.n.02\t0.0\t0.0\t1.0\n",
      "pawl.n.01\t0.0\t0.0\t1.0\n",
      "andiron.n.01\t0.0\t0.0\t1.0\n",
      "chase.v.01\t0.0\t0.0\t1.0\n"
     ]
    }
   ],
   "source": [
    "#All entries for the word 'sad' in the senti-wordnet\n",
    "example_senti_syn = swn.senti_synsets(\"dog\")\n",
    "print(\"Printing sentiment synsets for all the synsets of the word 'sad'\\n\")\n",
    "for senti_synset in example_senti_syn:\n",
    "    print(senti_synset.synset.name() + \"\\t\" + str(senti_synset.pos_score())  + \"\\t\" +  str(senti_synset.neg_score())\n",
    "         + \"\\t\" + str(senti_synset.obj_score()))"
   ]
  }
 ],
 "metadata": {
  "anaconda-cloud": {},
  "kernelspec": {
   "display_name": "Python 3",
   "language": "python",
   "name": "python3"
  },
  "language_info": {
   "codemirror_mode": {
    "name": "ipython",
    "version": 3
   },
   "file_extension": ".py",
   "mimetype": "text/x-python",
   "name": "python",
   "nbconvert_exporter": "python",
   "pygments_lexer": "ipython3",
   "version": "3.6.0"
  }
 },
 "nbformat": 4,
 "nbformat_minor": 2
}
