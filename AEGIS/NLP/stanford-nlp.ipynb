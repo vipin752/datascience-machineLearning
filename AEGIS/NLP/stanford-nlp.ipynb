{
 "cells": [
  {
   "cell_type": "code",
   "execution_count": 2,
   "metadata": {
    "collapsed": true
   },
   "outputs": [],
   "source": [
    "# Download the Stanford NLP tools\n",
    "# http://nlp.stanford.edu/software/stanford-ner-2015-04-20.zip\n",
    "# http://nlp.stanford.edu/software/stanford-postagger-full-2015-04-20.zip\n",
    "# http://nlp.stanford.edu/software/stanford-parser-full-2015-04-20.zip\n",
    "# https://github.com/shekhargulati/day20-stanford-sentiment-analysis-demo/raw/master/src/main/resources/edu/stanford/nlp/models/lexparser/englishPCFG.ser.gz"
   ]
  },
  {
   "cell_type": "code",
   "execution_count": 10,
   "metadata": {
    "collapsed": true
   },
   "outputs": [],
   "source": [
    "import os\n",
    "from nltk.parse import stanford\n",
    "os.environ['JAVAHOME'] = 'C:/Program Files/Java/jre1.8.0_131'\n",
    "os.environ['CLASSPATH'] = \"D:/standford/stanford-parser-full-2015-04-20/\""
   ]
  },
  {
   "cell_type": "code",
   "execution_count": 11,
   "metadata": {
    "collapsed": false
   },
   "outputs": [
    {
     "data": {
      "text/plain": [
       "[('Ram', 'NNP'),\n",
       " ('Sharma', 'NNP'),\n",
       " ('is', 'VBZ'),\n",
       " ('studying', 'VBG'),\n",
       " ('at', 'IN'),\n",
       " ('Aegis', 'NNP'),\n",
       " ('University', 'NNP'),\n",
       " ('in', 'IN'),\n",
       " ('India', 'NNP')]"
      ]
     },
     "execution_count": 11,
     "metadata": {},
     "output_type": "execute_result"
    }
   ],
   "source": [
    "# POS tagging:\n",
    "from nltk.tag import StanfordPOSTagger\n",
    "\n",
    "stanford_pos_dir = 'D:/standford/stanford-postagger-full-2015-04-20/'\n",
    "eng_model_filename= stanford_pos_dir + 'models/english-left3words-distsim.tagger'\n",
    "my_path_to_jar= stanford_pos_dir + 'stanford-postagger.jar'\n",
    "\n",
    "st = StanfordPOSTagger(model_filename=eng_model_filename, path_to_jar=my_path_to_jar) \n",
    "st.tag('Ram Sharma is studying at Aegis University in India'.split())"
   ]
  },
  {
   "cell_type": "code",
   "execution_count": 22,
   "metadata": {
    "collapsed": false
   },
   "outputs": [
    {
     "data": {
      "text/plain": [
       "[('my', 'O'), ('weight', 'O'), ('is', 'O'), ('30', 'O')]"
      ]
     },
     "execution_count": 22,
     "metadata": {},
     "output_type": "execute_result"
    }
   ],
   "source": [
    "#NER Tagging:\n",
    "from nltk.tag import StanfordNERTagger\n",
    "\n",
    "stanford_ner_dir = 'D:/standford/stanford-ner-2015-04-20/'\n",
    "eng_model_filename= stanford_ner_dir + 'classifiers/english.all.3class.distsim.crf.ser.gz'\n",
    "my_path_to_jar= stanford_ner_dir + 'stanford-ner.jar'\n",
    "\n",
    "st = StanfordNERTagger(model_filename=eng_model_filename, path_to_jar=my_path_to_jar) \n",
    "st.tag('my weight is 30'.split())"
   ]
  },
  {
   "cell_type": "code",
   "execution_count": 31,
   "metadata": {
    "collapsed": false
   },
   "outputs": [],
   "source": [
    "#Constituency Parser:\n",
    "from nltk.parse.stanford import StanfordParser\n",
    "parser=StanfordParser(model_path=\"D:/standford/stanford-parser-full-2015-04-20/englishPCFG.ser.gz\")\n",
    "sentences = list(parser.raw_parse(\"I like cats and dogs\"))\n",
    "#print(sentences)\n",
    "for line in sentences:\n",
    "    for sentence in line:\n",
    "        sentence.draw()"
   ]
  },
  {
   "cell_type": "code",
   "execution_count": 35,
   "metadata": {
    "collapsed": false
   },
   "outputs": [
    {
     "name": "stdout",
     "output_type": "stream",
     "text": [
      "\n",
      "Printing tree\n",
      "(cut (coach The) (players two) (team from the))\n",
      "\n",
      "Printing tuples\n"
     ]
    },
    {
     "data": {
      "text/plain": [
       "[(('cut', 'VBD'), 'nsubj', ('coach', 'NN')),\n",
       " (('coach', 'NN'), 'det', ('The', 'DT')),\n",
       " (('cut', 'VBD'), 'dobj', ('players', 'NNS')),\n",
       " (('players', 'NNS'), 'nummod', ('two', 'CD')),\n",
       " (('cut', 'VBD'), 'nmod', ('team', 'NN')),\n",
       " (('team', 'NN'), 'case', ('from', 'IN')),\n",
       " (('team', 'NN'), 'det', ('the', 'DT'))]"
      ]
     },
     "execution_count": 35,
     "metadata": {},
     "output_type": "execute_result"
    }
   ],
   "source": [
    "#Dependency Parser\n",
    "from nltk.parse.stanford import StanfordDependencyParser\n",
    "dep_parser=StanfordDependencyParser(model_path=\"edu/stanford/nlp/models/lexparser/englishPCFG.ser.gz\")\n",
    "\n",
    "sent = \"The coach cut two players from the team\"\n",
    "\n",
    "print(\"\\nPrinting tree\")\n",
    "for parse in dep_parser.raw_parse(sent):\n",
    "    print(parse.tree())\n",
    "result = dep_parser.raw_parse(sent)\n",
    "\n",
    "print(\"\\nPrinting tuples\")\n",
    "dep = result.__next__() #for other than python3 user: result.next()\n",
    "list(dep.triples())"
   ]
  }
 ],
 "metadata": {
  "kernelspec": {
   "display_name": "Python 3",
   "language": "python",
   "name": "python3"
  },
  "language_info": {
   "codemirror_mode": {
    "name": "ipython",
    "version": 3
   },
   "file_extension": ".py",
   "mimetype": "text/x-python",
   "name": "python",
   "nbconvert_exporter": "python",
   "pygments_lexer": "ipython3",
   "version": "3.6.0"
  }
 },
 "nbformat": 4,
 "nbformat_minor": 2
}
