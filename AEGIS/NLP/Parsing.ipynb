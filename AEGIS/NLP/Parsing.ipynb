{
 "cells": [
  {
   "cell_type": "code",
   "execution_count": 1,
   "metadata": {
    "collapsed": false
   },
   "outputs": [],
   "source": [
    "# Parser Demo\n",
    "######################## Rule Based parsers####################\n",
    "from nltk import CFG"
   ]
  },
  {
   "cell_type": "code",
   "execution_count": 75,
   "metadata": {
    "collapsed": false
   },
   "outputs": [
    {
     "name": "stdout",
     "output_type": "stream",
     "text": [
      "Grammar with 17 productions (start state = S)\n",
      "    S -> NP VP\n",
      "    PP -> P NP\n",
      "    NP -> AT N\n",
      "    NP -> N PP\n",
      "    NP -> AT N PP\n",
      "    NP -> DT N\n",
      "    VP -> V NP\n",
      "    VP -> V PP\n",
      "    VP -> V NP PP\n",
      "    AT -> 'a'\n",
      "    AT -> 'an'\n",
      "    DT -> 'the'\n",
      "    N -> 'man'\n",
      "    N -> 'boy'\n",
      "    N -> 'restaurant'\n",
      "    V -> 'saw'\n",
      "    P -> 'in'\n"
     ]
    }
   ],
   "source": [
    "grammar =  CFG.fromstring(\"\"\"\n",
    "\tS -> NP VP\n",
    "\tPP -> P NP\n",
    "\tNP -> AT N | N PP | AT N PP | DT N\n",
    "\tVP -> V NP | V PP | V NP PP\n",
    "\tAT -> 'a' | 'an' \n",
    "\tDT -> 'the'\n",
    "\tN -> 'man'\n",
    "\tN -> 'boy'\n",
    "\tN -> 'restaurant'\n",
    "\tV -> 'saw'\n",
    "\tP -> 'in'\n",
    "\t\"\"\")\n",
    "print(grammar)"
   ]
  },
  {
   "cell_type": "code",
   "execution_count": null,
   "metadata": {
    "collapsed": false
   },
   "outputs": [],
   "source": [
    "# Recursive Descent Parser\n",
    "from nltk.parse import RecursiveDescentParser\n",
    "sentence1 = \"the man saw a boy\"\n",
    "sentence2 = \"the man saw a boy in the restaurant\"\n",
    "parser = RecursiveDescentParser(grammar)"
   ]
  },
  {
   "cell_type": "code",
   "execution_count": 79,
   "metadata": {
    "collapsed": false
   },
   "outputs": [
    {
     "name": "stdout",
     "output_type": "stream",
     "text": [
      "trees for: the man saw a boy in the restaurant\n",
      "(S\n",
      "  (NP (DT the) (N man))\n",
      "  (VP\n",
      "    (V saw)\n",
      "    (NP (AT a) (N boy) (PP (P in) (NP (DT the) (N restaurant))))))\n",
      "(S\n",
      "  (NP (DT the) (N man))\n",
      "  (VP\n",
      "    (V saw)\n",
      "    (NP (AT a) (N boy))\n",
      "    (PP (P in) (NP (DT the) (N restaurant)))))\n"
     ]
    }
   ],
   "source": [
    "parsed_trees = parser.parse(sentence2.split())\n",
    "print(\"trees for: \"+sentence2)\n",
    "for tree in parsed_trees:\n",
    "\tprint(tree)"
   ]
  },
  {
   "cell_type": "code",
   "execution_count": 80,
   "metadata": {
    "collapsed": false
   },
   "outputs": [
    {
     "name": "stdout",
     "output_type": "stream",
     "text": [
      "tree for: the man saw a boy in the restaurant\n",
      "(S\n",
      "  (NP (DT the) (N man))\n",
      "  (VP\n",
      "    (V saw)\n",
      "    (NP (AT a) (N boy) (PP (P in) (NP (DT the) (N restaurant))))))\n",
      "(S\n",
      "  (NP (DT the) (N man))\n",
      "  (VP\n",
      "    (V saw)\n",
      "    (NP (AT a) (N boy))\n",
      "    (PP (P in) (NP (DT the) (N restaurant)))))\n"
     ]
    }
   ],
   "source": [
    "parsed_trees = parser.parse(sentence2.split())\n",
    "print(\"tree for: \"+sentence2)\n",
    "for tree in parsed_trees:\n",
    "\tprint(tree)"
   ]
  },
  {
   "cell_type": "code",
   "execution_count": 95,
   "metadata": {
    "collapsed": false
   },
   "outputs": [],
   "source": [
    "#Shift Reduce Parser\n",
    "from nltk.parse import ShiftReduceParser\n",
    "sentence1 = \"the man saw a boy\"\n",
    "sentence2 = \"the man saw a boy in the restaurant\"\n",
    "parser = ShiftReduceParser(grammar)"
   ]
  },
  {
   "cell_type": "code",
   "execution_count": 96,
   "metadata": {
    "collapsed": false
   },
   "outputs": [
    {
     "name": "stdout",
     "output_type": "stream",
     "text": [
      "trees for: the man saw a boy\n",
      "(S (NP (DT the) (N man)) (VP (V saw) (NP (AT a) (N boy))))\n"
     ]
    }
   ],
   "source": [
    "parsed_trees = parser.parse(sentence1.split())\n",
    "print(\"trees for: \"+sentence1)\n",
    "for tree in parsed_trees:\n",
    "\tprint(tree)"
   ]
  },
  {
   "cell_type": "code",
   "execution_count": 97,
   "metadata": {
    "collapsed": false
   },
   "outputs": [
    {
     "name": "stdout",
     "output_type": "stream",
     "text": [
      "tree for : the man saw a boy in the restaurant\n"
     ]
    }
   ],
   "source": [
    "parsed_trees = parser.parse(sentence2.split())\n",
    "print(\"tree for : \"+sentence2)\n",
    "if parsed_trees:\n",
    "\tfor tree in parsed_trees:\n",
    "\t\tprint(tree)"
   ]
  },
  {
   "cell_type": "code",
   "execution_count": 7,
   "metadata": {
    "collapsed": false
   },
   "outputs": [
    {
     "ename": "NameError",
     "evalue": "name 'grammar' is not defined",
     "output_type": "error",
     "traceback": [
      "\u001b[0;31m-----------------------------------------------------------------\u001b[0m",
      "\u001b[0;31mNameError\u001b[0m                       Traceback (most recent call last)",
      "\u001b[0;32m<ipython-input-7-bdd9433b511a>\u001b[0m in \u001b[0;36m<module>\u001b[0;34m()\u001b[0m\n\u001b[1;32m      1\u001b[0m \u001b[1;32mfrom\u001b[0m \u001b[0mnltk\u001b[0m\u001b[1;33m.\u001b[0m\u001b[0mparse\u001b[0m \u001b[1;32mimport\u001b[0m \u001b[0mChartParser\u001b[0m\u001b[1;33m\u001b[0m\u001b[0m\n\u001b[0;32m----> 2\u001b[0;31m \u001b[0mparser\u001b[0m \u001b[1;33m=\u001b[0m \u001b[0mChartParser\u001b[0m\u001b[1;33m(\u001b[0m\u001b[0mgrammar\u001b[0m\u001b[1;33m)\u001b[0m\u001b[1;33m\u001b[0m\u001b[0m\n\u001b[0m",
      "\u001b[0;31mNameError\u001b[0m: name 'grammar' is not defined"
     ]
    }
   ],
   "source": [
    "from nltk.parse import ChartParser\n",
    "parser = ChartParser(grammar)"
   ]
  },
  {
   "cell_type": "code",
   "execution_count": 6,
   "metadata": {
    "collapsed": false
   },
   "outputs": [
    {
     "ename": "NameError",
     "evalue": "name 'parser' is not defined",
     "output_type": "error",
     "traceback": [
      "\u001b[0;31m-----------------------------------------------------------------\u001b[0m",
      "\u001b[0;31mNameError\u001b[0m                       Traceback (most recent call last)",
      "\u001b[0;32m<ipython-input-6-d99a9fdded4c>\u001b[0m in \u001b[0;36m<module>\u001b[0;34m()\u001b[0m\n\u001b[0;32m----> 1\u001b[0;31m \u001b[0mparsed_trees\u001b[0m \u001b[1;33m=\u001b[0m \u001b[0mparser\u001b[0m\u001b[1;33m.\u001b[0m\u001b[0mparse\u001b[0m\u001b[1;33m(\u001b[0m\u001b[1;34m\"Look at the dog with one eye\"\u001b[0m\u001b[1;33m.\u001b[0m\u001b[0msplit\u001b[0m\u001b[1;33m(\u001b[0m\u001b[1;33m)\u001b[0m\u001b[1;33m)\u001b[0m\u001b[1;33m\u001b[0m\u001b[0m\n\u001b[0m\u001b[1;32m      2\u001b[0m \u001b[0mprint\u001b[0m\u001b[1;33m(\u001b[0m\u001b[1;34m\"ChartParsing: tree for: \"\u001b[0m\u001b[1;33m+\u001b[0m\u001b[0msentence2\u001b[0m\u001b[1;33m)\u001b[0m\u001b[1;33m\u001b[0m\u001b[0m\n\u001b[1;32m      3\u001b[0m \u001b[1;32mif\u001b[0m \u001b[0mparsed_trees\u001b[0m\u001b[1;33m:\u001b[0m\u001b[1;33m\u001b[0m\u001b[0m\n\u001b[1;32m      4\u001b[0m         \u001b[1;32mfor\u001b[0m \u001b[0mtree\u001b[0m \u001b[1;32min\u001b[0m \u001b[0mparsed_trees\u001b[0m\u001b[1;33m:\u001b[0m\u001b[1;33m\u001b[0m\u001b[0m\n\u001b[1;32m      5\u001b[0m                 \u001b[0mprint\u001b[0m\u001b[1;33m(\u001b[0m\u001b[0mtree\u001b[0m\u001b[1;33m)\u001b[0m\u001b[1;33m\u001b[0m\u001b[0m\n",
      "\u001b[0;31mNameError\u001b[0m: name 'parser' is not defined"
     ]
    }
   ],
   "source": [
    "parsed_trees = parser.parse(sentence2.split())\n",
    "print(\"ChartParsing: tree for: \"+sentence2)\n",
    "if parsed_trees:\n",
    "\tfor tree in parsed_trees:\n",
    "\t\tprint(tree)"
   ]
  }
 ],
 "metadata": {
  "kernelspec": {
   "display_name": "Python 3",
   "language": "python",
   "name": "python3"
  },
  "language_info": {
   "codemirror_mode": {
    "name": "ipython",
    "version": 3
   },
   "file_extension": ".py",
   "mimetype": "text/x-python",
   "name": "python",
   "nbconvert_exporter": "python",
   "pygments_lexer": "ipython3",
   "version": "3.6.0"
  }
 },
 "nbformat": 4,
 "nbformat_minor": 2
}
