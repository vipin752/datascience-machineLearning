{
 "cells": [
  {
   "cell_type": "markdown",
   "metadata": {
    "collapsed": true
   },
   "source": [
    "A regular expression is a special sequence of characters that helps you match or find other strings or sets of strings,\n",
    "using a specialized syntax held in a pattern\n",
    "https://docs.python.org/3/howto/regex.html\n",
    "\n"
   ]
  },
  {
   "cell_type": "code",
   "execution_count": 7,
   "metadata": {
    "collapsed": true
   },
   "outputs": [],
   "source": [
    "import re\n",
    "#+ * ? $ ^ () {} [] \\ |\n",
    "#Identifiers \\d \\D \\w \\W \\s \\S . \\b\n",
    "#modifiers {}, + * ? ^ $ | [] {}\n",
    "#white space characters \\n \\s \\t \\b \\f \\r"
   ]
  },
  {
   "cell_type": "code",
   "execution_count": 25,
   "metadata": {
    "collapsed": true
   },
   "outputs": [],
   "source": [
    "exampleString = \"Ram was 10 years old on May 2010 and Shyam was 5 years old on June 2011.\""
   ]
  },
  {
   "cell_type": "code",
   "execution_count": 26,
   "metadata": {},
   "outputs": [
    {
     "name": "stdout",
     "output_type": "stream",
     "text": [
      "['Ram', 'was', '10', 'years', 'old', 'on', 'May', '2010', 'and', 'Shyam', 'was', '5', 'years', 'old', 'on', 'June', '2011']\n"
     ]
    }
   ],
   "source": [
    "#using findall function\n",
    "words=re.findall(r'\\w+',exampleString) \n",
    "print(words)"
   ]
  },
  {
   "cell_type": "code",
   "execution_count": 27,
   "metadata": {},
   "outputs": [
    {
     "name": "stdout",
     "output_type": "stream",
     "text": [
      "['Ram', 'May', 'Shyam', 'June']\n"
     ]
    }
   ],
   "source": [
    "#using findall function\n",
    "words=re.findall(r'[A-Z]\\w+',exampleString)  #words with first capital letter\n",
    "print(words)"
   ]
  },
  {
   "cell_type": "code",
   "execution_count": 28,
   "metadata": {},
   "outputs": [
    {
     "name": "stdout",
     "output_type": "stream",
     "text": [
      "['10', '2010', '5', '2011']\n"
     ]
    }
   ],
   "source": [
    "#using findall function\n",
    "digits=re.findall(r'\\d+',exampleString) #\\d+ same as [0-9]+\n",
    "print(digits)"
   ]
  },
  {
   "cell_type": "code",
   "execution_count": 29,
   "metadata": {},
   "outputs": [
    {
     "name": "stdout",
     "output_type": "stream",
     "text": [
      "['2010', '2011']\n"
     ]
    }
   ],
   "source": [
    "#using findall function\n",
    "digits=re.findall(r'\\d{4}',exampleString) \n",
    "print(digits)"
   ]
  },
  {
   "cell_type": "code",
   "execution_count": 31,
   "metadata": {},
   "outputs": [
    {
     "name": "stdout",
     "output_type": "stream",
     "text": [
      "[('10', 'years'), ('5', 'years')]\n"
     ]
    }
   ],
   "source": [
    "#using findall function\n",
    "ages = re.findall(r'(\\d{0,2}) (years)', exampleString)\n",
    "print(ages)"
   ]
  },
  {
   "cell_type": "code",
   "execution_count": 32,
   "metadata": {},
   "outputs": [
    {
     "name": "stdout",
     "output_type": "stream",
     "text": [
      "[('May', '2010'), ('June', '2011')]\n"
     ]
    }
   ],
   "source": [
    "#using findall function\n",
    "date = re.findall(r'([A-Z][a-z]+) (\\d+)',exampleString)\n",
    "print(date)"
   ]
  },
  {
   "cell_type": "code",
   "execution_count": 34,
   "metadata": {},
   "outputs": [
    {
     "name": "stdout",
     "output_type": "stream",
     "text": [
      "Ram was 10 years old on May 2010 and Shyam was 5 years old on June 2011.\n",
      "Match at index 24, 32\n",
      "Full match: May 2010\n",
      "Month: May\n",
      "Year: 2010\n"
     ]
    }
   ],
   "source": [
    "#using search and match function\n",
    "print(exampleString)\n",
    "if re.search(r'([A-Z][a-z]+) (\\d+)',exampleString):\n",
    "    match = re.search(r'([A-Z][a-z]+) (\\d+)',exampleString)\n",
    "    print(\"Match at index %s, %s\" % (match.start(), match.end()))\n",
    "    print(\"Full match: %s\" % (match.group(0)))\n",
    "    print(\"Month: %s\" % (match.group(1)))\n",
    "    print(\"Year: %s\" % (match.group(2)))\n",
    "else:\n",
    "    print(\"The regex pattern does not match. :(\")\n"
   ]
  },
  {
   "cell_type": "code",
   "execution_count": 36,
   "metadata": {},
   "outputs": [
    {
     "name": "stdout",
     "output_type": "stream",
     "text": [
      "matchObj.group() :  Ram was 10 years old on May 2010 and Shyam was 5 years old on June 2011.\n",
      "matchObj.group(1) :  Ram was 10 years old on May 2010\n",
      "matchObj.group(2) :  Shyam was 5 years old on June 2011.\n"
     ]
    }
   ],
   "source": [
    "#using search and match function\n",
    "matches = re.match( r'(.*) and (.*)', exampleString)\n",
    "\n",
    "if matches:\n",
    "   print(\"matchObj.group() : \", matches.group())\n",
    "   print(\"matchObj.group(1) : \", matches.group(1))\n",
    "   print(\"matchObj.group(2) : \", matches.group(2))\n",
    "else:\n",
    "   print(\"No match!!\")"
   ]
  },
  {
   "cell_type": "code",
   "execution_count": 38,
   "metadata": {},
   "outputs": [
    {
     "name": "stdout",
     "output_type": "stream",
     "text": [
      "Match at index: 24, 32\n",
      "May 2010\n",
      "Match at index: 62, 71\n",
      "June 2011\n"
     ]
    }
   ],
   "source": [
    "#using finditer function\n",
    "matches = re.finditer( r'([A-Z]\\w+) (\\d+)', exampleString)\n",
    "\n",
    "for match in matches:\n",
    "    print(\"Match at index: %s, %s\" % (match.start(), match.end()))\n",
    "    print(match.group())"
   ]
  },
  {
   "cell_type": "code",
   "execution_count": 39,
   "metadata": {},
   "outputs": [
    {
     "name": "stdout",
     "output_type": "stream",
     "text": [
      "Ram was 10 years old on 2010 of May and Shyam was 5 years old on 2011 of June.\n"
     ]
    }
   ],
   "source": [
    "#Finding and replacing strings\n",
    "print(re.sub(r'([A-Z]\\w+) (\\d+)',r\"\\2 of \\1\",exampleString)) #swap"
   ]
  },
  {
   "cell_type": "code",
   "execution_count": 40,
   "metadata": {},
   "outputs": [
    {
     "name": "stdout",
     "output_type": "stream",
     "text": [
      "Ram\twas\t10\tyears\told\ton\tMay\t2010\tand\tShyam\twas\t5\tyears\told\ton\tJune\t2011.\n"
     ]
    }
   ],
   "source": [
    "#Finding and replacing strings using compile\n",
    "print(re.sub(r'\\s',r'\\t',exampleString)) #replace"
   ]
  },
  {
   "cell_type": "code",
   "execution_count": 46,
   "metadata": {},
   "outputs": [
    {
     "name": "stdout",
     "output_type": "stream",
     "text": [
      "('May', '2010')\n",
      "('June', '2011')\n"
     ]
    }
   ],
   "source": [
    "#creating a new regular expression pattern to match many strings can be slow, so it is recommended that you compile them if you need to be testing or extracting information from many input strings using the same expression\n",
    "matches = re.compile( r'([A-Z]\\w+) (\\d+)')\n",
    "for match in matches.findall(exampleString):\n",
    "    print(match)"
   ]
  },
  {
   "cell_type": "code",
   "execution_count": 47,
   "metadata": {},
   "outputs": [
    {
     "name": "stdout",
     "output_type": "stream",
     "text": [
      "[]\n"
     ]
    }
   ],
   "source": [
    "#for extracting time \n",
    "pattern=re.compile(r'[0-2][0-3]:[0-5][0-9]') #will not match 04.00\n",
    "print(re.findall(pattern,\"Class is at 04:00\"))"
   ]
  },
  {
   "cell_type": "code",
   "execution_count": 48,
   "metadata": {},
   "outputs": [
    {
     "name": "stdout",
     "output_type": "stream",
     "text": [
      "['01:00']\n"
     ]
    }
   ],
   "source": [
    "#for extracting time \n",
    "exampleString=\"Now its 01:00 pm\"\n",
    "print(re.findall(r'([0-1]*[0-9]:[0-5][0-9]|[2][0-3]:[0-5][0-9])',exampleString))\n",
    "\n"
   ]
  },
  {
   "cell_type": "code",
   "execution_count": 51,
   "metadata": {},
   "outputs": [
    {
     "name": "stdout",
     "output_type": "stream",
     "text": [
      "['06:30']\n"
     ]
    }
   ],
   "source": [
    "#print(re.findall(r'\\d{1,2}(?:(?:am|pm)|(?::\\d{1,2})(?:am|pm)?)', \"November,Monday,6:30pm,1989\"))\n",
    "print(re.findall(r'(24:00|2[0-3]:[0-5][0-9]|[0-1][0-9]:[0-5][0-9])', \"November,Monday,06:30 pm,1989\"))"
   ]
  }
 ],
 "metadata": {
  "kernelspec": {
   "display_name": "Python 3",
   "language": "python",
   "name": "python3"
  },
  "language_info": {
   "codemirror_mode": {
    "name": "ipython",
    "version": 3
   },
   "file_extension": ".py",
   "mimetype": "text/x-python",
   "name": "python",
   "nbconvert_exporter": "python",
   "pygments_lexer": "ipython3",
   "version": "3.6.1"
  }
 },
 "nbformat": 4,
 "nbformat_minor": 2
}
