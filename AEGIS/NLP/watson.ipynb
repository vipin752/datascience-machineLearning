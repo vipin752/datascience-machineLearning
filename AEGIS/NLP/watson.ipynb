{
 "cells": [
  {
   "cell_type": "code",
   "execution_count": 1,
   "metadata": {
    "collapsed": true
   },
   "outputs": [],
   "source": [
    "#https://www.ibm.com/watson/products-services/\n",
    "#https://console.bluemix.net/dashboard/\n",
    "#c"
   ]
  },
  {
   "cell_type": "code",
   "execution_count": 2,
   "metadata": {},
   "outputs": [],
   "source": [
    "from watson_developer_cloud import ToneAnalyzerV3, LanguageTranslatorV2, VisualRecognitionV3"
   ]
  },
  {
   "cell_type": "code",
   "execution_count": 11,
   "metadata": {},
   "outputs": [
    {
     "name": "stdout",
     "output_type": "stream",
     "text": [
      "{'score': 0.009145, 'tone_id': 'anger', 'tone_name': 'Anger'}\n",
      "{'score': 0.016148, 'tone_id': 'disgust', 'tone_name': 'Disgust'}\n",
      "{'score': 0.010325, 'tone_id': 'fear', 'tone_name': 'Fear'}\n",
      "{'score': 0.868352, 'tone_id': 'joy', 'tone_name': 'Joy'}\n",
      "{'score': 0.085585, 'tone_id': 'sadness', 'tone_name': 'Sadness'}\n"
     ]
    }
   ],
   "source": [
    "#tone analyzer \n",
    "u = '756f51a9-c7e3-4c41-9381-e4513d2384a0'\n",
    "p = 'WEBCdBiN5Q4L'\n",
    "v = '2016-05-19'\n",
    "text = \"I love cricket\"\n",
    "t = ToneAnalyzerV3(username=u, password=p, version=v)\n",
    "d = t.tone(text)\n",
    "for tone in d['document_tone']['tone_categories']:\n",
    "    if tone['category_id'] == 'emotion_tone':\n",
    "        for tone in (tone['tones']):\n",
    "            print(tone)"
   ]
  },
  {
   "cell_type": "code",
   "execution_count": 15,
   "metadata": {},
   "outputs": [
    {
     "name": "stdout",
     "output_type": "stream",
     "text": [
      "danke\n"
     ]
    }
   ],
   "source": [
    "#language translator\n",
    "#italian: it\n",
    "#german: de\n",
    "#french: fr\n",
    "#japanese: ja\n",
    "u = '0d0428bb-8c8c-420c-9bde-a438710fafcf'\n",
    "p = 'ozOlq8Gg2Zd8'\n",
    "text = \"thank you\"\n",
    "t = LanguageTranslatorV2(username=u, password=p)\n",
    "o = t.translate(text=text, source='en', target='de')\n",
    "print(o)"
   ]
  },
  {
   "cell_type": "code",
   "execution_count": 18,
   "metadata": {},
   "outputs": [
    {
     "name": "stdout",
     "output_type": "stream",
     "text": [
      "{'class': 'cat', 'score': 0.907, 'type_hierarchy': '/animal/mammal/carnivore/feline/cat'}\n",
      "{'class': 'feline', 'score': 0.912}\n",
      "{'class': 'carnivore', 'score': 0.912}\n",
      "{'class': 'mammal', 'score': 0.912}\n",
      "{'class': 'animal', 'score': 0.914}\n",
      "{'class': 'European wildcat', 'score': 0.621, 'type_hierarchy': '/animal/mammal/carnivore/feline/cat/wildcat/European wildcat'}\n",
      "{'class': 'wildcat', 'score': 0.759}\n",
      "{'class': 'domestic cat', 'score': 0.539, 'type_hierarchy': '/animal/mammal/carnivore/feline/cat/domestic cat'}\n",
      "{'class': 'jungle cat', 'score': 0.5, 'type_hierarchy': '/animal/mammal/carnivore/feline/cat/wildcat/jungle cat'}\n",
      "{'class': 'gray color', 'score': 0.857}\n",
      "{'class': 'green color', 'score': 0.795}\n"
     ]
    }
   ],
   "source": [
    "#Image Recognition\n",
    "k = '167276fa2877a54259e5d650b4c58a38434b85ce'\n",
    "v = '2016-05-19'\n",
    "url = \"https://pixabay.com/en/cat-young-animal-curious-wildcat-2083492/\"\n",
    "vis = VisualRecognitionV3(api_key=k, version=v)\n",
    "o = vis.classify(images_url=url)\n",
    "#print(o)\n",
    "klasses = o['images'][0]['classifiers'][0]['classes']\n",
    "for k in klasses:\n",
    "    print(k)"
   ]
  }
 ],
 "metadata": {
  "kernelspec": {
   "display_name": "Python 3",
   "language": "python",
   "name": "python3"
  },
  "language_info": {
   "codemirror_mode": {
    "name": "ipython",
    "version": 3
   },
   "file_extension": ".py",
   "mimetype": "text/x-python",
   "name": "python",
   "nbconvert_exporter": "python",
   "pygments_lexer": "ipython3",
   "version": "3.6.1"
  }
 },
 "nbformat": 4,
 "nbformat_minor": 2
}
