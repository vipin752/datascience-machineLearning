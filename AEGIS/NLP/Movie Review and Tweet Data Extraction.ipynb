{
 "cells": [
  {
   "cell_type": "code",
   "execution_count": 56,
   "metadata": {
    "collapsed": false
   },
   "outputs": [],
   "source": [
    "from nltk.corpus import movie_reviews"
   ]
  },
  {
   "cell_type": "code",
   "execution_count": 57,
   "metadata": {
    "collapsed": false
   },
   "outputs": [],
   "source": [
    "#movie_reviews.fileids()"
   ]
  },
  {
   "cell_type": "code",
   "execution_count": 58,
   "metadata": {
    "collapsed": false
   },
   "outputs": [],
   "source": [
    "pos_reviews =[]\n",
    "pos_labels = []\n",
    "for file in movie_reviews.fileids('pos'):\n",
    "    pos_reviews.append(movie_reviews.words(file))\n",
    "    pos_labels.append('pos')"
   ]
  },
  {
   "cell_type": "code",
   "execution_count": 60,
   "metadata": {
    "collapsed": false
   },
   "outputs": [],
   "source": [
    "neg_reviews =[]\n",
    "neg_labels = []\n",
    "for file in movie_reviews.fileids('neg'):\n",
    "    neg_reviews.append(movie_reviews.words(file))\n",
    "    neg_labels.append('neg')"
   ]
  },
  {
   "cell_type": "code",
   "execution_count": 61,
   "metadata": {
    "collapsed": false
   },
   "outputs": [
    {
     "name": "stdout",
     "output_type": "stream",
     "text": [
      "1000\n",
      "1000\n"
     ]
    }
   ],
   "source": [
    "print(len(pos_reviews))\n",
    "print(len(neg_reviews))"
   ]
  },
  {
   "cell_type": "code",
   "execution_count": 62,
   "metadata": {
    "collapsed": true
   },
   "outputs": [],
   "source": [
    "training_data= pos_reviews[:700]+neg_reviews[:700]\n",
    "testing_data = pos_reviews[700:]+neg_reviews[700:]"
   ]
  },
  {
   "cell_type": "code",
   "execution_count": 63,
   "metadata": {
    "collapsed": true
   },
   "outputs": [],
   "source": [
    "training_labels= pos_labels[:700]+neg_labels[:700]\n",
    "testing_labels = neg_labels[700:]+neg_labels[700:]"
   ]
  },
  {
   "cell_type": "code",
   "execution_count": 64,
   "metadata": {
    "collapsed": true
   },
   "outputs": [],
   "source": [
    "#train classifier on training_data and training_labels after applying NLP techniques"
   ]
  },
  {
   "cell_type": "code",
   "execution_count": 65,
   "metadata": {
    "collapsed": false
   },
   "outputs": [],
   "source": [
    "from nltk.corpus import twitter_samples"
   ]
  },
  {
   "cell_type": "code",
   "execution_count": 66,
   "metadata": {
    "collapsed": false
   },
   "outputs": [],
   "source": [
    "pos_tweets =[]\n",
    "pos_labels = []\n",
    "for tweet in twitter_samples.strings('positive_tweets.json'):\n",
    "    pos_tweets.append(tweet.split())\n",
    "    pos_labels.append('positive')"
   ]
  },
  {
   "cell_type": "code",
   "execution_count": 67,
   "metadata": {
    "collapsed": false
   },
   "outputs": [],
   "source": [
    "neg_tweets =[]\n",
    "neg_labels = []\n",
    "for tweet in twitter_samples.strings('negative_tweets.json'):\n",
    "    neg_tweets.append(tweet.split())\n",
    "    neg_labels.append('negative')"
   ]
  },
  {
   "cell_type": "code",
   "execution_count": 68,
   "metadata": {
    "collapsed": false
   },
   "outputs": [
    {
     "name": "stdout",
     "output_type": "stream",
     "text": [
      "5000\n",
      "5000\n"
     ]
    }
   ],
   "source": [
    "print(len(pos_tweets))\n",
    "print(len(pos_tweets))"
   ]
  },
  {
   "cell_type": "code",
   "execution_count": 69,
   "metadata": {
    "collapsed": true
   },
   "outputs": [],
   "source": [
    "training_data= pos_tweets[:4000]+neg_tweets[:4000]\n",
    "testing_data = pos_tweets[4000:]+neg_tweets[4000:]"
   ]
  },
  {
   "cell_type": "code",
   "execution_count": 70,
   "metadata": {
    "collapsed": true
   },
   "outputs": [],
   "source": [
    "training_labels= pos_labels[:4000]+neg_labels[:4000]\n",
    "testing_labels = neg_labels[4000:]+neg_labels[4000:]"
   ]
  },
  {
   "cell_type": "code",
   "execution_count": 71,
   "metadata": {
    "collapsed": true
   },
   "outputs": [],
   "source": [
    "#train classifier on training_data and training_labels after applying NLP techniques"
   ]
  }
 ],
 "metadata": {
  "kernelspec": {
   "display_name": "Python [conda root]",
   "language": "python",
   "name": "conda-root-py"
  },
  "language_info": {
   "codemirror_mode": {
    "name": "ipython",
    "version": 3
   },
   "file_extension": ".py",
   "mimetype": "text/x-python",
   "name": "python",
   "nbconvert_exporter": "python",
   "pygments_lexer": "ipython3",
   "version": "3.5.2"
  }
 },
 "nbformat": 4,
 "nbformat_minor": 1
}
